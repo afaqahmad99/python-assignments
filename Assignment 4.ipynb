{
 "cells": [
  {
   "cell_type": "code",
   "execution_count": 1,
   "metadata": {},
   "outputs": [
    {
     "name": "stdout",
     "output_type": "stream",
     "text": [
      "Afaq\n",
      "Ahmad\n",
      "20\n",
      "Karachi\n",
      "Inter\n",
      "{'first_name': 'Afaq', 'Last_name': 'Ahmad', 'Age': 20, 'City': 'Karachi'}\n"
     ]
    }
   ],
   "source": [
    "#Task no 1:\n",
    "per = {\n",
    "    \"first_name\":\"Afaq\",\n",
    "    \"Last_name\":\"Ahmad\",\n",
    "    \"Age\":20,\n",
    "    \"City\":\"Karachi\"\n",
    "}\n",
    "\n",
    "print(per[\"first_name\"])\n",
    "print(per[\"Last_name\"])\n",
    "print(per[\"Age\"])\n",
    "print(per[\"City\"])\n",
    "\n",
    "per[\"qualification\"]=\"Inter\"\n",
    "\n",
    "print(per[\"qualification\"])\n",
    "#now delete qualification in dictionary\n",
    "del per[\"qualification\"]\n",
    "\n",
    "print(per)"
   ]
  },
  {
   "cell_type": "code",
   "execution_count": 2,
   "metadata": {},
   "outputs": [
    {
     "name": "stdout",
     "output_type": "stream",
     "text": [
      "\n",
      "Karachi is in Pakistan.\n",
      "It has a population of about 15741406.\n",
      "It Is The Sixth Largest City In The World By City Population.\n",
      "\n",
      "Lahore is in Pakistan.\n",
      "It has a population of about 12188196.\n",
      "It'S The 32Nd Most Populous Urban City In The World\n",
      "\n",
      "Islamabad is in Pakistan.\n",
      "It has a population of about 1095064.\n",
      "It Is Famous Due To The Many Parks, Forests,Greenery,World Fourth Largest Masjid And The Margalla Hills National Park\n"
     ]
    }
   ],
   "source": [
    "#Task no 2:\n",
    "cities = {\n",
    "    \"Karachi\": {\n",
    "        \"country\": \"Pakistan\",\n",
    "        \"Population\": 15741406,\n",
    "        \"Fact\": \"It is the Sixth largest city in the world by city population.\"\n",
    "        },\n",
    "    \"Lahore\": {\n",
    "        \"country\": \"Pakistan\",\n",
    "        \"Population\": 12188196,\n",
    "        \"Fact\": \"It's the 32nd most populous urban city in the world\"\n",
    "        },\n",
    "    \"Islamabad\": {\n",
    "        \"country\": \"Pakistan\",\n",
    "        \"Population\": 1095064,\n",
    "        \"Fact\": \"It is famous due to the many parks, forests,greenery,world fourth largest masjid and the Margalla Hills National park\"\n",
    "        }\n",
    "    }\n",
    "\n",
    "for city, city_info in cities.items():\n",
    "    country = city_info[\"country\"].title()\n",
    "    Population = city_info[\"Population\"]\n",
    "    Fact = city_info[\"Fact\"].title()\n",
    "\n",
    "    print(\"\\n\" + city.title() + \" is in \" + country + \".\")\n",
    "    print(\"It has a population of about \" + str(Population) + \".\")\n",
    "    print(Fact)"
   ]
  },
  {
   "cell_type": "code",
   "execution_count": 3,
   "metadata": {},
   "outputs": [
    {
     "name": "stdout",
     "output_type": "stream",
     "text": [
      "What is your age?\n",
      "Enter 'quit' when you are finished. 20\n",
      "Your ticket is $15.\n",
      "What is your age?\n",
      "Enter 'quit' when you are finished. 12\n",
      "Your ticket is $10.\n",
      "What is your age?\n",
      "Enter 'quit' when you are finished. 2\n",
      "You ticket in free!\n",
      "What is your age?\n",
      "Enter 'quit' when you are finished. quit\n"
     ]
    }
   ],
   "source": [
    "#Task no 3:\n",
    "prompt = \"What is your age?\"\n",
    "prompt += \"\\nEnter 'quit' when you are finished. \"\n",
    "\n",
    "while True:\n",
    "    age = input(prompt)\n",
    "    if age == \"quit\":\n",
    "        break\n",
    "    age = int(age)\n",
    "\n",
    "    if age < 3:\n",
    "        print(\"You ticket in free!\")\n",
    "    elif age <13:\n",
    "        print(\"Your ticket is $10.\")\n",
    "    else:\n",
    "        print(\"Your ticket is $15.\")"
   ]
  },
  {
   "cell_type": "code",
   "execution_count": 5,
   "metadata": {},
   "outputs": [
    {
     "name": "stdout",
     "output_type": "stream",
     "text": [
      "One of my favorite books is Alice in Wonderland\n"
     ]
    }
   ],
   "source": [
    "#task no 4:\n",
    "def favourite_book(title):\n",
    "    print(\"One of my favorite books is \"+title)\n",
    "\n",
    "favourite_book(\"Alice in Wonderland\")"
   ]
  },
  {
   "cell_type": "code",
   "execution_count": 8,
   "metadata": {},
   "outputs": [
    {
     "name": "stdout",
     "output_type": "stream",
     "text": [
      "Guess the number between 1 and 30 you have only three chances.\n",
      "Take a guess.\n",
      "6\n",
      "Your guess is too low.\n",
      "Take a guess.\n",
      "16\n",
      "Your guess is too low.\n",
      "Take a guess.\n",
      "26\n",
      "Your guess is too low.\n",
      "The correct number was 27\n"
     ]
    }
   ],
   "source": [
    "#Task no 5:\n",
    "import random\n",
    "guessesTaken = 0\n",
    "number = random.randint(1, 30)\n",
    "print(\"Guess the number between 1 and 30 you have only three chances.\") \n",
    "while guessesTaken < 3:\n",
    "    print(\"Take a guess.\")\n",
    "    guess = input()\n",
    "    guess = int(guess)\n",
    "    guessesTaken = guessesTaken + 1\n",
    "    if guess < number:\n",
    "            print(\"Your guess is too low.\")\n",
    "    if guess > number:\n",
    "            print(\"Your guess is too high.\")\n",
    "    if guess == number:\n",
    "            break\n",
    "if guess == number:\n",
    "    guessesTaken = str(guessesTaken)\n",
    "    print(\"You guessed the number in \" + guessesTaken + \" guesses!\")\n",
    "if guess != number:\n",
    "    number = str(number)\n",
    "    print(\"The correct number was \" + number)"
   ]
  },
  {
   "cell_type": "code",
   "execution_count": null,
   "metadata": {},
   "outputs": [],
   "source": []
  }
 ],
 "metadata": {
  "kernelspec": {
   "display_name": "Python 3",
   "language": "python",
   "name": "python3"
  },
  "language_info": {
   "codemirror_mode": {
    "name": "ipython",
    "version": 3
   },
   "file_extension": ".py",
   "mimetype": "text/x-python",
   "name": "python",
   "nbconvert_exporter": "python",
   "pygments_lexer": "ipython3",
   "version": "3.7.4"
  }
 },
 "nbformat": 4,
 "nbformat_minor": 2
}
