{
 "cells": [
  {
   "cell_type": "code",
   "execution_count": 4,
   "metadata": {},
   "outputs": [
    {
     "name": "stdout",
     "output_type": "stream",
     "text": [
      "Enter the number to find the factorial of that number,number must be positve=7\n",
      "5040\n"
     ]
    }
   ],
   "source": [
    "#Task no 1\n",
    "def fact(n):\n",
    "    if n == 0:\n",
    "        return 1\n",
    "    else:\n",
    "        return n * fact(n-1)\n",
    "n=int(input(\"Enter the number to find the factorial of that number,number must be positve=\"))\n",
    "print(fact(n))"
   ]
  },
  {
   "cell_type": "code",
   "execution_count": 26,
   "metadata": {},
   "outputs": [
    {
     "name": "stdout",
     "output_type": "stream",
     "text": [
      "Orignal String :  I Love Pak Army\n",
      "No. of Upper case characters :  4\n",
      "No. of Lower case characters :  8\n"
     ]
    }
   ],
   "source": [
    "#Task no 2\n",
    "def string_test(s):\n",
    "    d={\n",
    "         \"UPPER_CASE\":0,\n",
    "        \"LOWER_CASE\":0\n",
    "      }\n",
    "    for c in s:\n",
    "        if c.isupper():\n",
    "            d[\"UPPER_CASE\"]+=1\n",
    "        elif c.islower():\n",
    "            d[\"LOWER_CASE\"]+=1\n",
    "        else:\n",
    "            pass\n",
    "    print(\"Orignal String : \", s)\n",
    "    print(\"No. of Upper case characters : \", d[\"UPPER_CASE\"])\n",
    "    print(\"No. of Lower case characters : \", d[\"LOWER_CASE\"])\n",
    "    \n",
    "string_test('I Love Pak Army')\n",
    "    "
   ]
  },
  {
   "cell_type": "code",
   "execution_count": 14,
   "metadata": {},
   "outputs": [
    {
     "name": "stdout",
     "output_type": "stream",
     "text": [
      "2\n",
      "4\n",
      "6\n",
      "8\n"
     ]
    }
   ],
   "source": [
    "#Task no 3\n",
    "ls=[1,2,3,4,5,6,7,8,9]\n",
    "def check():\n",
    "    for a in ls:\n",
    "        if a%2==0:\n",
    "            print(a)\n",
    "            \n",
    "check()"
   ]
  },
  {
   "cell_type": "code",
   "execution_count": 17,
   "metadata": {},
   "outputs": [
    {
     "name": "stdout",
     "output_type": "stream",
     "text": [
      "String is palindrome\n"
     ]
    }
   ],
   "source": [
    "#Task no 4\n",
    "def reverse (s):\n",
    "    return s[::-1]\n",
    "def ispalindrome(s):\n",
    "    rev = reverse(s)\n",
    "    if (s==rev):\n",
    "        return True\n",
    "    return False\n",
    "s = \"noon\"\n",
    "ans = ispalindrome(s)\n",
    "\n",
    "if ans == 1:\n",
    "    print(\"String is palindrome\")\n",
    "else:\n",
    "    print(\"String is not palindrome\")\n",
    "    "
   ]
  },
  {
   "cell_type": "code",
   "execution_count": 18,
   "metadata": {},
   "outputs": [
    {
     "name": "stdout",
     "output_type": "stream",
     "text": [
      "6 is not a prime number\n"
     ]
    }
   ],
   "source": [
    "#Task no 5\n",
    "def test_prime(n):\n",
    "    if n>1:\n",
    "        for x in range(2,n):\n",
    "            if(n % x==0):\n",
    "                print(n,\"is not a prime number\")\n",
    "                break\n",
    "            else:\n",
    "                print(n,\"is a prime number\")\n",
    "            \n",
    "test_prime(6)"
   ]
  },
  {
   "cell_type": "code",
   "execution_count": 19,
   "metadata": {},
   "outputs": [
    {
     "name": "stdout",
     "output_type": "stream",
     "text": [
      "The things te user bought from the market is \n",
      "Bread\n",
      "Wheat\n",
      "Fish\n",
      "Butter\n",
      "Beans\n",
      "Fish\n"
     ]
    }
   ],
   "source": [
    "#Task no 6\n",
    "def cust (*p):\n",
    "    print(\"The things te user bought from the market is \")\n",
    "    for a in p:\n",
    "        print(a)\n",
    "        \n",
    "cust(\"Bread\",\"Wheat\",\"Fish\",\"Butter\",\"Beans\",\"Fish\")"
   ]
  },
  {
   "cell_type": "code",
   "execution_count": null,
   "metadata": {},
   "outputs": [],
   "source": []
  }
 ],
 "metadata": {
  "kernelspec": {
   "display_name": "Python 3",
   "language": "python",
   "name": "python3"
  },
  "language_info": {
   "codemirror_mode": {
    "name": "ipython",
    "version": 3
   },
   "file_extension": ".py",
   "mimetype": "text/x-python",
   "name": "python",
   "nbconvert_exporter": "python",
   "pygments_lexer": "ipython3",
   "version": "3.7.4"
  }
 },
 "nbformat": 4,
 "nbformat_minor": 2
}
