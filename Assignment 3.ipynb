{
 "cells": [
  {
   "cell_type": "code",
   "execution_count": 2,
   "metadata": {},
   "outputs": [
    {
     "name": "stdout",
     "output_type": "stream",
     "text": [
      "enter first value=3\n",
      "enter second value=3\n",
      "enter operator=**\n",
      "27\n"
     ]
    }
   ],
   "source": [
    "#Task no 1\n",
    "val1=int(input(\"enter first value=\"))\n",
    "val2=int(input(\"enter second value=\"))\n",
    "op=input(\"enter operator=\")\n",
    "if op==\"+\":\n",
    "    val=val1+val2\n",
    "    print(val)\n",
    "elif op==\"-\":\n",
    "    val=val1-val2\n",
    "    print(val)\n",
    "elif op==\"*\":\n",
    "    val=val1*val2\n",
    "    print(val)\n",
    "elif op==\"/\":\n",
    "    val=val1/val2\n",
    "    print(val)\n",
    "elif op==\"**\":\n",
    "    val=val1**val2\n",
    "    print(val)  \n",
    "else:\n",
    "    print(\"invalid operator\")\n"
   ]
  },
  {
   "cell_type": "code",
   "execution_count": 13,
   "metadata": {},
   "outputs": [
    {
     "name": "stdout",
     "output_type": "stream",
     "text": [
      "numeric value found=2\n"
     ]
    }
   ],
   "source": [
    "#Task no 2\n",
    "list=[2,\"afaq\",6,\"sultan\",4,7,\"sajid\"]\n",
    "for x in list:\n",
    "    if type(x)==int or type(x)==float:\n",
    "        print(\"numeric value found=\"+str(x))\n",
    "        break\n",
    "    else:\n",
    "        print(\"numeric value not found\")\n",
    "        break\n",
    "    "
   ]
  },
  {
   "cell_type": "code",
   "execution_count": 16,
   "metadata": {},
   "outputs": [
    {
     "name": "stdout",
     "output_type": "stream",
     "text": [
      "{0: 'karak', 1: 'kohat', 2: 'peshawar'}\n",
      "{0: 'karak', 1: 'kohat', 2: 'peshawar', 3: 'islamabad'}\n"
     ]
    }
   ],
   "source": [
    "#Task no 3\n",
    "a={0:\"karak\", 1:\"kohat\", 2:\"peshawar\"}\n",
    "print(a)\n",
    "a[3]=\"islamabad\"\n",
    "print(a)"
   ]
  },
  {
   "cell_type": "code",
   "execution_count": 19,
   "metadata": {},
   "outputs": [
    {
     "name": "stdout",
     "output_type": "stream",
     "text": [
      "The dictionary is{'a': 66, 'b': 77, 'c': 88}\n",
      "The sum of all the numeric values in dictionary=231\n"
     ]
    }
   ],
   "source": [
    "#Task no 4\n",
    "dic={\"a\":66,\n",
    "     \"b\":77,\n",
    "     \"c\":88}\n",
    "print(\"The dictionary is\"+str(dic))\n",
    "print(\"The sum of all the numeric values in dictionary=\"+str(sum(dic.values())))"
   ]
  },
  {
   "cell_type": "code",
   "execution_count": 21,
   "metadata": {},
   "outputs": [
    {
     "name": "stdout",
     "output_type": "stream",
     "text": [
      "[6, 4, 3, 5, 7, 1]\n"
     ]
    }
   ],
   "source": [
    "#Task no 5\n",
    "list1=[6,4,3,5,4,6,7,3,1,1,7]\n",
    "unique=[]\n",
    "for ele in list1:\n",
    "    if ele not in unique:\n",
    "        unique.append(ele)\n",
    "print(unique)"
   ]
  },
  {
   "cell_type": "code",
   "execution_count": 36,
   "metadata": {},
   "outputs": [
    {
     "name": "stdout",
     "output_type": "stream",
     "text": [
      "enter a key to check=66\n",
      "key is already present in the dictionary\n"
     ]
    }
   ],
   "source": [
    "#Task no 6\n",
    "dic={1:44, 2:55, 3:66, 4:77, 5:88}\n",
    "a=int(input(\"enter a key to check=\"))\n",
    "def key(x):\n",
    "    if x in dic:\n",
    "        print(\"key is already present in the dictionary\")\n",
    "    else:\n",
    "        print(\"key is not present in the dictionary\")\n",
    "key(x)\n",
    "        "
   ]
  },
  {
   "cell_type": "code",
   "execution_count": null,
   "metadata": {},
   "outputs": [],
   "source": []
  }
 ],
 "metadata": {
  "kernelspec": {
   "display_name": "Python 3",
   "language": "python",
   "name": "python3"
  },
  "language_info": {
   "codemirror_mode": {
    "name": "ipython",
    "version": 3
   },
   "file_extension": ".py",
   "mimetype": "text/x-python",
   "name": "python",
   "nbconvert_exporter": "python",
   "pygments_lexer": "ipython3",
   "version": "3.7.4"
  }
 },
 "nbformat": 4,
 "nbformat_minor": 2
}
