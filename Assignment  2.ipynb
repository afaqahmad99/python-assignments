{
 "cells": [
  {
   "cell_type": "code",
   "execution_count": 37,
   "metadata": {},
   "outputs": [
    {
     "name": "stdout",
     "output_type": "stream",
     "text": [
      "marks in english(out of 100)=78\n",
      "marks in urdu(out of 100)=87\n",
      "marks in physics(out of 100)=67\n",
      "marks in chemistry(out of 100)=98\n",
      "marks in biology(out of 100)=98\n",
      "totel marks(out of 500)=428\n",
      "percentage=85.6\n",
      "your grade is A+\n"
     ]
    }
   ],
   "source": [
    "#Task no 1\n",
    "a=int(input(\"marks in english(out of 100)=\"));\n",
    "b=int(input(\"marks in urdu(out of 100)=\"));\n",
    "c=int(input(\"marks in physics(out of 100)=\"));\n",
    "d=int(input(\"marks in chemistry(out of 100)=\"));\n",
    "e=int(input(\"marks in biology(out of 100)=\"));\n",
    "total=a+b+c+d+e\n",
    "print(\"totel marks(out of 500)=\"+str(total));\n",
    "per=total*100/500;\n",
    "print(\"percentage=\"+str(per));\n",
    "if per>=80 and per<=100:\n",
    "    print(\"your grade is A+\");\n",
    "elif per>=70 and per<80:\n",
    "    print(\"your grade=A\");\n",
    "elif per>=60 and per<70:\n",
    "    print(\"your grade=B\");\n",
    "elif per>=50 and per<60:\n",
    "    print(\"your grade=C\");\n",
    "elif per<50:\n",
    "    print(\"you are fail\");\n",
    "else:\n",
    "    print(\"wrong input\");"
   ]
  },
  {
   "cell_type": "code",
   "execution_count": 42,
   "metadata": {},
   "outputs": [
    {
     "name": "stdout",
     "output_type": "stream",
     "text": [
      "enter number=7\n",
      "number is odd\n"
     ]
    }
   ],
   "source": [
    "#Task no 2\n",
    "a=int(input(\"enter number=\"));\n",
    "if a%2==0:\n",
    "     print(\"number is even\");\n",
    "else:\n",
    "     print(\"number is odd\");"
   ]
  },
  {
   "cell_type": "code",
   "execution_count": 43,
   "metadata": {},
   "outputs": [
    {
     "name": "stdout",
     "output_type": "stream",
     "text": [
      "The array is ['afaq', 'salim', 'sultan', '66', 'saad']\n",
      "Length of array is 5\n"
     ]
    }
   ],
   "source": [
    "#Task no 3\n",
    "arr=[\"afaq\",\"salim\",\"sultan\",\"66\",\"saad\"];\n",
    "print(\"The array is \"+str(arr));\n",
    "print(\"Length of array is \"+str(len(arr)));"
   ]
  },
  {
   "cell_type": "code",
   "execution_count": 53,
   "metadata": {},
   "outputs": [
    {
     "name": "stdout",
     "output_type": "stream",
     "text": [
      "The sum of all numbers in array is 213\n"
     ]
    }
   ],
   "source": [
    "#Task no 4\n",
    "arr=[6,67,54,53,33];\n",
    "print(\"The sum of all numbers in array is \"+str(sum(arr)));"
   ]
  },
  {
   "cell_type": "code",
   "execution_count": 54,
   "metadata": {},
   "outputs": [
    {
     "name": "stdout",
     "output_type": "stream",
     "text": [
      "The largest number in array is 67\n"
     ]
    }
   ],
   "source": [
    "#Task no 5\n",
    "arr=[6,67,54,53,33];\n",
    "print(\"The largest number in array is \"+str(max(arr)));"
   ]
  },
  {
   "cell_type": "code",
   "execution_count": 55,
   "metadata": {},
   "outputs": [
    {
     "name": "stdout",
     "output_type": "stream",
     "text": [
      "The elements which are less then 5 is \n",
      "4\n",
      "3\n",
      "2\n",
      "1\n",
      "3\n",
      "2\n"
     ]
    }
   ],
   "source": [
    "#Task no 6\n",
    "arr=[6,5,4,3,2,8,9,1,3,2];\n",
    "print(\"The elements which are less then 5 is \");\n",
    "for a in arr:\n",
    "    if a<5:\n",
    "        print(a)"
   ]
  },
  {
   "cell_type": "code",
   "execution_count": null,
   "metadata": {},
   "outputs": [],
   "source": []
  }
 ],
 "metadata": {
  "kernelspec": {
   "display_name": "Python 3",
   "language": "python",
   "name": "python3"
  },
  "language_info": {
   "codemirror_mode": {
    "name": "ipython",
    "version": 3
   },
   "file_extension": ".py",
   "mimetype": "text/x-python",
   "name": "python",
   "nbconvert_exporter": "python",
   "pygments_lexer": "ipython3",
   "version": "3.7.4"
  }
 },
 "nbformat": 4,
 "nbformat_minor": 2
}
